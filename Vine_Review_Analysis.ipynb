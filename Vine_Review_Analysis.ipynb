{
  "nbformat": 4,
  "nbformat_minor": 0,
  "metadata": {
    "colab": {
      "name": "Vine_Review_Analysis.ipynb",
      "provenance": [],
      "collapsed_sections": []
    },
    "kernelspec": {
      "name": "python3",
      "display_name": "Python 3"
    },
    "nteract": {
      "version": "0.12.3"
    },
    "language_info": {
      "name": "python"
    }
  },
  "cells": [
    {
      "cell_type": "code",
      "metadata": {
        "id": "V58rxea0HqSa",
        "colab": {
          "base_uri": "https://localhost:8080/"
        },
        "outputId": "d2ff9f1f-65ae-4bb9-b842-c8bc01ddd361"
      },
      "source": [
        "import os\n",
        "# Find the latest version of spark 3.0 from http://www.apache.org/dist/spark/ and enter as the spark version\n",
        "# For example:\n",
        "# spark_version = 'spark-3.0.3'\n",
        "spark_version = 'spark-3.0.3'\n",
        "os.environ['SPARK_VERSION']=spark_version\n",
        "\n",
        "# Install Spark and Java\n",
        "!apt-get update\n",
        "!apt-get install openjdk-11-jdk-headless -qq > /dev/null\n",
        "!wget -q http://www.apache.org/dist/spark/$SPARK_VERSION/$SPARK_VERSION-bin-hadoop2.7.tgz\n",
        "!tar xf $SPARK_VERSION-bin-hadoop2.7.tgz\n",
        "!pip install -q findspark\n",
        "\n",
        "# Set Environment Variables\n",
        "import os\n",
        "os.environ[\"JAVA_HOME\"] = \"/usr/lib/jvm/java-11-openjdk-amd64\"\n",
        "os.environ[\"SPARK_HOME\"] = f\"/content/{spark_version}-bin-hadoop2.7\"\n",
        "\n",
        "# Start a SparkSession\n",
        "import findspark\n",
        "findspark.init()"
      ],
      "execution_count": 76,
      "outputs": [
        {
          "output_type": "stream",
          "name": "stdout",
          "text": [
            "\r0% [Working]\r            \rHit:1 https://developer.download.nvidia.com/compute/cuda/repos/ubuntu1804/x86_64  InRelease\n",
            "Hit:2 https://cloud.r-project.org/bin/linux/ubuntu bionic-cran40/ InRelease\n",
            "Get:3 http://security.ubuntu.com/ubuntu bionic-security InRelease [88.7 kB]\n",
            "Ign:4 https://developer.download.nvidia.com/compute/machine-learning/repos/ubuntu1804/x86_64  InRelease\n",
            "Hit:5 https://developer.download.nvidia.com/compute/machine-learning/repos/ubuntu1804/x86_64  Release\n",
            "Hit:6 http://ppa.launchpad.net/c2d4u.team/c2d4u4.0+/ubuntu bionic InRelease\n",
            "Hit:8 http://archive.ubuntu.com/ubuntu bionic InRelease\n",
            "Get:9 http://archive.ubuntu.com/ubuntu bionic-updates InRelease [88.7 kB]\n",
            "Hit:10 http://ppa.launchpad.net/cran/libgit2/ubuntu bionic InRelease\n",
            "Hit:11 http://ppa.launchpad.net/deadsnakes/ppa/ubuntu bionic InRelease\n",
            "Get:12 http://archive.ubuntu.com/ubuntu bionic-backports InRelease [74.6 kB]\n",
            "Hit:13 http://ppa.launchpad.net/graphics-drivers/ppa/ubuntu bionic InRelease\n",
            "Fetched 252 kB in 2s (108 kB/s)\n",
            "Reading package lists... Done\n"
          ]
        }
      ]
    },
    {
      "cell_type": "code",
      "metadata": {
        "id": "_xKwTpATHqSe",
        "colab": {
          "base_uri": "https://localhost:8080/"
        },
        "outputId": "07811c5c-96ae-4b82-ed6d-bf95916fc0aa"
      },
      "source": [
        "# Download the Postgres driver that will allow Spark to interact with Postgres.\n",
        "!wget https://jdbc.postgresql.org/download/postgresql-42.2.16.jar"
      ],
      "execution_count": 77,
      "outputs": [
        {
          "output_type": "stream",
          "name": "stdout",
          "text": [
            "--2022-07-24 04:23:45--  https://jdbc.postgresql.org/download/postgresql-42.2.16.jar\n",
            "Resolving jdbc.postgresql.org (jdbc.postgresql.org)... 72.32.157.228, 2001:4800:3e1:1::228\n",
            "Connecting to jdbc.postgresql.org (jdbc.postgresql.org)|72.32.157.228|:443... connected.\n",
            "HTTP request sent, awaiting response... 200 OK\n",
            "Length: 1002883 (979K) [application/java-archive]\n",
            "Saving to: ‘postgresql-42.2.16.jar.1’\n",
            "\n",
            "postgresql-42.2.16. 100%[===================>] 979.38K   860KB/s    in 1.1s    \n",
            "\n",
            "2022-07-24 04:23:47 (860 KB/s) - ‘postgresql-42.2.16.jar.1’ saved [1002883/1002883]\n",
            "\n"
          ]
        }
      ]
    },
    {
      "cell_type": "code",
      "metadata": {
        "id": "MMqDAjVS0KN9"
      },
      "source": [
        "from pyspark.sql import SparkSession\n",
        "spark = SparkSession.builder.appName(\"M16-Amazon-Challenge\").config(\"spark.driver.extraClassPath\",\"/content/postgresql-42.2.16.jar\").getOrCreate()"
      ],
      "execution_count": 78,
      "outputs": []
    },
    {
      "cell_type": "code",
      "metadata": {
        "id": "CtCmBhQJY-9Z",
        "colab": {
          "base_uri": "https://localhost:8080/"
        },
        "outputId": "03dc3d17-75d2-4a71-cab8-5d3fc8664323"
      },
      "source": [
        "from pyspark import SparkFiles\n",
        "url = \"https://s3.amazonaws.com/amazon-reviews-pds/tsv/amazon_reviews_us_Jewelry_v1_00.tsv.gz\"\n",
        "spark.sparkContext.addFile(url)\n",
        "df = spark.read.option(\"encoding\", \"UTF-8\").csv(SparkFiles.get(\"\"), sep=\"\\t\", header=True, inferSchema=True)\n",
        "df.show()"
      ],
      "execution_count": 79,
      "outputs": [
        {
          "output_type": "stream",
          "name": "stdout",
          "text": [
            "+-----------+-----------+--------------+----------+--------------+--------------------+----------------+-----------+-------------+-----------+----+-----------------+--------------------+--------------------+-----------+\n",
            "|marketplace|customer_id|     review_id|product_id|product_parent|       product_title|product_category|star_rating|helpful_votes|total_votes|vine|verified_purchase|     review_headline|         review_body|review_date|\n",
            "+-----------+-----------+--------------+----------+--------------+--------------------+----------------+-----------+-------------+-----------+----+-----------------+--------------------+--------------------+-----------+\n",
            "|         US|   50423057|R135Q3VZ4DQN5N|B00JWXFDMG|     657335467|Everbling Purple ...|         Jewelry|          5|            0|          0|   N|                Y|           Beauties!|so beautiful even...| 2015-08-31|\n",
            "|         US|   11262325|R2N0QQ6R4T7YRY|B00W5T1H9W|      26030170|925 Sterling Silv...|         Jewelry|          5|            0|          0|   N|                N|      Great product.|Great product.. I...| 2015-08-31|\n",
            "|         US|   27541121|R3N5JE5Y4T6W5M|B00M2L6KFY|     697845240|Sterling Silver C...|         Jewelry|          5|            0|          0|   N|                Y|Exactly as pictur...|Exactly as pictur...| 2015-08-31|\n",
            "|         US|    5350721|R2I150CX5IVY9Q|B0006SW2WU|     569859289|Surgical Stainles...|         Jewelry|          5|            0|          0|   N|                Y|          Five Stars|Love it. Fits gre...| 2015-08-31|\n",
            "|         US|   24484424|R1RM9ICOOA9MQ3|B009YPDW70|     332947422|Sterling Silver F...|         Jewelry|          5|            0|          0|   N|                Y|... a Mother's Da...|Got this as a Mot...| 2015-08-31|\n",
            "|         US|     457767|R2J2KMDL10UMSH|B00QGA8XZM|     424804582|CHOOSE YOUR COLOR...|         Jewelry|          5|            0|          0|   N|                Y|          Five Stars|I Love It Make Me...| 2015-08-31|\n",
            "|         US|   31009358|R3R9ZUFA4TB4FQ|B00L0N0E8E|     589441783|Metal Factory 925...|         Jewelry|          5|            0|          0|   N|                Y|          Five Stars|True to size, unique| 2015-08-31|\n",
            "|         US|    7034628|R3UQ8VAQN7R6WL|B00DMWQKWA|     517428445|niceEshop(TM)Clas...|         Jewelry|          5|            0|          0|   N|                Y|          Five Stars|This necklace is ...| 2015-08-31|\n",
            "|         US|   34608636|R1FXZ69C01JNQM|B00THLHAGA|     320313750|Genuine Natural B...|         Jewelry|          5|            0|          0|   N|                Y|          Five Stars|        just perfect| 2015-08-31|\n",
            "|         US|   44972687| RY36LB4OW0FFS|B00UXSEOHY|     589365488|MBOX Expandable A...|         Jewelry|          5|            0|          0|   N|                Y|          Five Stars|           Love it !| 2015-08-31|\n",
            "|         US|   16684508| R6PKS54PC6ZY2|B00XGRYGVS|     217045013|Set of 3 Nose Rin...|         Jewelry|          1|            4|          4|   N|                Y|I had high hopes ...|They didn't even ...| 2015-08-31|\n",
            "|         US|   23493178|R1LYSAH0IECVWB|B00AJ2VU8A|     972853757|3-row White A Gra...|         Jewelry|          5|            0|          0|   N|                Y|This is a real ni...|This is a real ni...| 2015-08-31|\n",
            "|         US|     108294|R1UN0IZI3XQ3E2|B00LE5Y100|     979375701|KONOV Mens Stainl...|         Jewelry|          5|            2|          3|   N|                Y|             AMAZING|This is a very co...| 2015-08-31|\n",
            "|         US|   25810742| RIKDXD8QGL99S|B013E0AOH6|     619592796|TEMEGO Jewelry Me...|         Jewelry|          5|            1|          1|   N|                Y|          Five Stars|Great quality for...| 2015-08-31|\n",
            "|         US|   12037665| RUZCQTXZVGUFH|B00XAWUP96|     783863439|Royal Blue/White ...|         Jewelry|          4|            1|          1|   N|                Y|A Little Smaller ...|I like the bracel...| 2015-08-31|\n",
            "|         US|   51793466|R35CD4IHO3RP9H|B00WD82F1O|     655270378|10-11mm Baroque F...|         Jewelry|          5|            1|          1|   N|                Y|Pretty and Versatile|This is pretty an...| 2015-08-31|\n",
            "|         US|     127508|R13YD66XC9221U|B00JP4XCSO|     592155747|Sankuwen® Fashion...|         Jewelry|          1|            0|          0|   N|                N|Don't get this li...|Don't get this li...| 2015-08-31|\n",
            "|         US|   38430946| RHWG4JRVDSEYY|B00PZSM384|     622179716|zjskin6688 store ...|         Jewelry|          3|            1|          1|   N|                Y|         Three Stars|Not what I expect...| 2015-08-31|\n",
            "|         US|   33684654|R3SPIKMJ5IWHX8|B00VLMW18K|      36759824|Scheppend Polymer...|         Jewelry|          4|            0|          0|   N|                Y|          Four Stars|Bought these for ...| 2015-08-31|\n",
            "|         US|    5068631| RS19ACU7KWWNE|B00U5LDBB4|     575109200|Horizontal Sidewa...|         Jewelry|          5|            1|          1|   N|                Y|          Five Stars|Pretty, and very ...| 2015-08-31|\n",
            "+-----------+-----------+--------------+----------+--------------+--------------------+----------------+-----------+-------------+-----------+----+-----------------+--------------------+--------------------+-----------+\n",
            "only showing top 20 rows\n",
            "\n"
          ]
        }
      ]
    },
    {
      "cell_type": "code",
      "source": [
        "helpful_df = df.filter(\"total_votes>=20\")\n",
        "helpful_df.show()"
      ],
      "metadata": {
        "colab": {
          "base_uri": "https://localhost:8080/"
        },
        "id": "zlvkvHiZcQQJ",
        "outputId": "406840df-0cc4-4f49-bd9d-3df27873be21"
      },
      "execution_count": 80,
      "outputs": [
        {
          "output_type": "stream",
          "name": "stdout",
          "text": [
            "+-----------+-----------+--------------+----------+--------------+--------------------+----------------+-----------+-------------+-----------+----+-----------------+--------------------+--------------------+-----------+\n",
            "|marketplace|customer_id|     review_id|product_id|product_parent|       product_title|product_category|star_rating|helpful_votes|total_votes|vine|verified_purchase|     review_headline|         review_body|review_date|\n",
            "+-----------+-----------+--------------+----------+--------------+--------------------+----------------+-----------+-------------+-----------+----+-----------------+--------------------+--------------------+-----------+\n",
            "|         US|   18238567|R16YC6SMGKA8SR|B00MD99R9G|     692935467|Fun Daisy New Des...|         Jewelry|          5|           23|         23|   N|                Y|Beautiful stateme...|This is the first...| 2015-08-31|\n",
            "|         US|   35346149| R5O4WE9UM60B0|B00Q8BYTAW|      48877050|Women's New Simpl...|         Jewelry|          1|           29|         29|   N|                Y|I did expect it t...|Let me preface th...| 2015-08-31|\n",
            "|         US|   41095424|R2EKRVCRC7U0IY|B00PJIPZGW|     677765845|Antique Brass Ton...|         Jewelry|          1|           22|         24|   N|                Y|            One Star|Poor quality!<br ...| 2015-08-31|\n",
            "|         US|    4039595|R2OKV47GETH0L7|B00VUTQVDK|     939458680|Jewelrieshop Stai...|         Jewelry|          5|           24|         24|   N|                Y|     Great ear studs|These are great. ...| 2015-08-31|\n",
            "|         US|   38319820| R36LII9IITE17|B00MB9YCDO|     367067706|ArRord Beautiful ...|         Jewelry|          1|           22|         24|   N|                Y|              AWFUL!|Took 4 weeks to a...| 2015-08-31|\n",
            "|         US|   18658991|R35VKNE16PFY0H|B00YFNZYDG|     670585095|Bracelets For Wom...|         Jewelry|          5|           22|         24|   N|                N|Luckily I found t...|[[VIDEOID:6e75766...| 2015-08-30|\n",
            "|         US|     421300|R3TG008LHHZZIN|B00FZOTLC4|     350810365|14k Yellow Gold B...|         Jewelry|          5|          123|        125|   N|                Y|    Sweet and simple|[[VIDEOID:66915b7...| 2015-08-30|\n",
            "|         US|    9330212|R2FYQBKCC1XG4M|B009P4G8U8|      80161480|Sterling Silver R...|         Jewelry|          5|           20|         20|   N|                Y|          Five Stars|Gorgeous!! Very s...| 2015-08-30|\n",
            "|         US|   14873596| R63PV336NI5X7|B00UDF11O6|     712133361|Fashion Brand 925...|         Jewelry|          1|           27|         28|   N|                Y|     Broken bracelet|The bracelet brok...| 2015-08-29|\n",
            "|         US|    1278386|R1R42WPHB5ZSWI|B007VFHOQ0|     201950929|Steampunk FIRE ne...|         Jewelry|          5|           51|         52|   N|                Y|Lovely, don't lis...|This is a gorgeou...| 2015-08-29|\n",
            "|         US|     156241| RXSS0QZJE1TEO|B00VNDYPSQ|     690721039|Fashion Jewelry B...|         Jewelry|          1|           35|         35|   N|                Y|            One Star|Buckle was very w...| 2015-08-29|\n",
            "|         US|    2659922| RGS9C5XKWVYP9|B00FBAR1X8|     293039249|10KT White Gold P...|         Jewelry|          1|           24|         24|   N|                Y| unfortunated defect|I was excited to ...| 2015-08-29|\n",
            "|         US|   24596251|R3R5BWMKH1EUIQ|B010QAMEFM|     673336713|CZ Crystal Leaves...|         Jewelry|          5|           26|         27|   N|                N|      Elegant design|Elegant design. I...| 2015-08-29|\n",
            "|         US|    6026413|R2KBDT7RGO1G86|B00BLRNZNK|     228968920|1.50 Carat Round ...|         Jewelry|          3|           33|         39|   N|                Y|It's a beautiful ...|It's a beautiful ...| 2015-08-29|\n",
            "|         US|   14287196|R2WA09RFYT69GB|B00KHWJEFS|     410889586|20 Pieces Plugs S...|         Jewelry|          5|           21|         22|   N|                Y|Insane price, fas...|These are great! ...| 2015-08-29|\n",
            "|         US|   34811153| RYNTUAMCHU3W4|B00UUQ6C5G|     455061130|Rinhoo Random Cha...|         Jewelry|          5|           22|         22|   N|                Y|    Absolutely great|I don't normally ...| 2015-08-29|\n",
            "|         US|   13165713|R3U5NCDM6NLHLC|B00GN3N4EM|     780515323|1.45 Carat (ctw) ...|         Jewelry|          5|           29|         30|   N|                Y|Great Price on a ...|It really is a be...| 2015-08-28|\n",
            "|         US|   45512891| R8708W8U0Z89A|B011W7X1PK|     721871970|Ring Resizer, Rin...|         Jewelry|          2|           37|         38|   N|                Y|I'll pay for inno...|Unlike the other ...| 2015-08-28|\n",
            "|         US|   19703321| RFT7R66D3SA54|B00P8I61NO|     848363259|18k Plated Stainl...|         Jewelry|          5|           23|         24|   N|                Y|              Great!|I ordered the ros...| 2015-08-28|\n",
            "|         US|   42190015|R1OI5TTOS49U8R|B00KR7MLHG|     380199757|Charm.L Grace Cla...|         Jewelry|          5|           33|         34|   N|                Y|                  😍|Stunning! Worth e...| 2015-08-28|\n",
            "+-----------+-----------+--------------+----------+--------------+--------------------+----------------+-----------+-------------+-----------+----+-----------------+--------------------+--------------------+-----------+\n",
            "only showing top 20 rows\n",
            "\n"
          ]
        }
      ]
    },
    {
      "cell_type": "code",
      "source": [
        "divided_df = helpful_df.filter(helpful_df[\"helpful_votes\"] / helpful_df[\"total_votes\"]>=0.5)\n",
        "divided_df.show()"
      ],
      "metadata": {
        "colab": {
          "base_uri": "https://localhost:8080/"
        },
        "id": "GKaJsN7scQB_",
        "outputId": "0fcce5ba-d944-4051-f997-6973bd2871b0"
      },
      "execution_count": 81,
      "outputs": [
        {
          "output_type": "stream",
          "name": "stdout",
          "text": [
            "+-----------+-----------+--------------+----------+--------------+--------------------+----------------+-----------+-------------+-----------+----+-----------------+--------------------+--------------------+-----------+\n",
            "|marketplace|customer_id|     review_id|product_id|product_parent|       product_title|product_category|star_rating|helpful_votes|total_votes|vine|verified_purchase|     review_headline|         review_body|review_date|\n",
            "+-----------+-----------+--------------+----------+--------------+--------------------+----------------+-----------+-------------+-----------+----+-----------------+--------------------+--------------------+-----------+\n",
            "|         US|   18238567|R16YC6SMGKA8SR|B00MD99R9G|     692935467|Fun Daisy New Des...|         Jewelry|          5|           23|         23|   N|                Y|Beautiful stateme...|This is the first...| 2015-08-31|\n",
            "|         US|   35346149| R5O4WE9UM60B0|B00Q8BYTAW|      48877050|Women's New Simpl...|         Jewelry|          1|           29|         29|   N|                Y|I did expect it t...|Let me preface th...| 2015-08-31|\n",
            "|         US|   41095424|R2EKRVCRC7U0IY|B00PJIPZGW|     677765845|Antique Brass Ton...|         Jewelry|          1|           22|         24|   N|                Y|            One Star|Poor quality!<br ...| 2015-08-31|\n",
            "|         US|    4039595|R2OKV47GETH0L7|B00VUTQVDK|     939458680|Jewelrieshop Stai...|         Jewelry|          5|           24|         24|   N|                Y|     Great ear studs|These are great. ...| 2015-08-31|\n",
            "|         US|   38319820| R36LII9IITE17|B00MB9YCDO|     367067706|ArRord Beautiful ...|         Jewelry|          1|           22|         24|   N|                Y|              AWFUL!|Took 4 weeks to a...| 2015-08-31|\n",
            "|         US|   18658991|R35VKNE16PFY0H|B00YFNZYDG|     670585095|Bracelets For Wom...|         Jewelry|          5|           22|         24|   N|                N|Luckily I found t...|[[VIDEOID:6e75766...| 2015-08-30|\n",
            "|         US|     421300|R3TG008LHHZZIN|B00FZOTLC4|     350810365|14k Yellow Gold B...|         Jewelry|          5|          123|        125|   N|                Y|    Sweet and simple|[[VIDEOID:66915b7...| 2015-08-30|\n",
            "|         US|    9330212|R2FYQBKCC1XG4M|B009P4G8U8|      80161480|Sterling Silver R...|         Jewelry|          5|           20|         20|   N|                Y|          Five Stars|Gorgeous!! Very s...| 2015-08-30|\n",
            "|         US|   14873596| R63PV336NI5X7|B00UDF11O6|     712133361|Fashion Brand 925...|         Jewelry|          1|           27|         28|   N|                Y|     Broken bracelet|The bracelet brok...| 2015-08-29|\n",
            "|         US|    1278386|R1R42WPHB5ZSWI|B007VFHOQ0|     201950929|Steampunk FIRE ne...|         Jewelry|          5|           51|         52|   N|                Y|Lovely, don't lis...|This is a gorgeou...| 2015-08-29|\n",
            "|         US|     156241| RXSS0QZJE1TEO|B00VNDYPSQ|     690721039|Fashion Jewelry B...|         Jewelry|          1|           35|         35|   N|                Y|            One Star|Buckle was very w...| 2015-08-29|\n",
            "|         US|    2659922| RGS9C5XKWVYP9|B00FBAR1X8|     293039249|10KT White Gold P...|         Jewelry|          1|           24|         24|   N|                Y| unfortunated defect|I was excited to ...| 2015-08-29|\n",
            "|         US|   24596251|R3R5BWMKH1EUIQ|B010QAMEFM|     673336713|CZ Crystal Leaves...|         Jewelry|          5|           26|         27|   N|                N|      Elegant design|Elegant design. I...| 2015-08-29|\n",
            "|         US|    6026413|R2KBDT7RGO1G86|B00BLRNZNK|     228968920|1.50 Carat Round ...|         Jewelry|          3|           33|         39|   N|                Y|It's a beautiful ...|It's a beautiful ...| 2015-08-29|\n",
            "|         US|   14287196|R2WA09RFYT69GB|B00KHWJEFS|     410889586|20 Pieces Plugs S...|         Jewelry|          5|           21|         22|   N|                Y|Insane price, fas...|These are great! ...| 2015-08-29|\n",
            "|         US|   34811153| RYNTUAMCHU3W4|B00UUQ6C5G|     455061130|Rinhoo Random Cha...|         Jewelry|          5|           22|         22|   N|                Y|    Absolutely great|I don't normally ...| 2015-08-29|\n",
            "|         US|   13165713|R3U5NCDM6NLHLC|B00GN3N4EM|     780515323|1.45 Carat (ctw) ...|         Jewelry|          5|           29|         30|   N|                Y|Great Price on a ...|It really is a be...| 2015-08-28|\n",
            "|         US|   45512891| R8708W8U0Z89A|B011W7X1PK|     721871970|Ring Resizer, Rin...|         Jewelry|          2|           37|         38|   N|                Y|I'll pay for inno...|Unlike the other ...| 2015-08-28|\n",
            "|         US|   19703321| RFT7R66D3SA54|B00P8I61NO|     848363259|18k Plated Stainl...|         Jewelry|          5|           23|         24|   N|                Y|              Great!|I ordered the ros...| 2015-08-28|\n",
            "|         US|   42190015|R1OI5TTOS49U8R|B00KR7MLHG|     380199757|Charm.L Grace Cla...|         Jewelry|          5|           33|         34|   N|                Y|                  😍|Stunning! Worth e...| 2015-08-28|\n",
            "+-----------+-----------+--------------+----------+--------------+--------------------+----------------+-----------+-------------+-----------+----+-----------------+--------------------+--------------------+-----------+\n",
            "only showing top 20 rows\n",
            "\n"
          ]
        }
      ]
    },
    {
      "cell_type": "code",
      "source": [
        "vine_df = divided_df.filter(divided_df[\"vine\"]==\"Y\")"
      ],
      "metadata": {
        "id": "cP2E3NxWMcLx"
      },
      "execution_count": 82,
      "outputs": []
    },
    {
      "cell_type": "code",
      "source": [
        "novine_df = divided_df.filter(divided_df[\"vine\"]==\"N\")\n"
      ],
      "metadata": {
        "id": "GQX-_z9mM2_4"
      },
      "execution_count": 83,
      "outputs": []
    },
    {
      "cell_type": "code",
      "source": [
        "#total reviews with vine\n",
        "totalreviews = vine_df.agg({'review_id': 'count'}).show()"
      ],
      "metadata": {
        "colab": {
          "base_uri": "https://localhost:8080/"
        },
        "id": "Qk3cp99uPyZR",
        "outputId": "44a42c8d-aa20-46a1-82ed-e8911157097e"
      },
      "execution_count": 84,
      "outputs": [
        {
          "output_type": "stream",
          "name": "stdout",
          "text": [
            "+----------------+\n",
            "|count(review_id)|\n",
            "+----------------+\n",
            "|              21|\n",
            "+----------------+\n",
            "\n"
          ]
        }
      ]
    },
    {
      "cell_type": "code",
      "source": [
        "#total with vine and 5 star rating\n",
        "vinestar = vine_df.filter('star_rating==5').agg({'review_id': 'count'}).show()"
      ],
      "metadata": {
        "colab": {
          "base_uri": "https://localhost:8080/"
        },
        "id": "KMSH9QqWU4oK",
        "outputId": "ddd8fff4-806b-4018-ff63-ed99ad5eed2d"
      },
      "execution_count": 85,
      "outputs": [
        {
          "output_type": "stream",
          "name": "stdout",
          "text": [
            "+----------------+\n",
            "|count(review_id)|\n",
            "+----------------+\n",
            "|              11|\n",
            "+----------------+\n",
            "\n"
          ]
        }
      ]
    },
    {
      "cell_type": "code",
      "source": [
        "#with vine 5 star reviews divided by total reviews\n",
        "11/21"
      ],
      "metadata": {
        "colab": {
          "base_uri": "https://localhost:8080/"
        },
        "id": "3fanixG1Xb_0",
        "outputId": "985ac19c-2c16-45c9-9cf9-cbc11f7bf55b"
      },
      "execution_count": 86,
      "outputs": [
        {
          "output_type": "execute_result",
          "data": {
            "text/plain": [
              "0.5238095238095238"
            ]
          },
          "metadata": {},
          "execution_count": 86
        }
      ]
    },
    {
      "cell_type": "code",
      "source": [
        "#total reviews without vine\n",
        "totalreviews = novine_df.agg({'review_id': 'count'}).show()"
      ],
      "metadata": {
        "colab": {
          "base_uri": "https://localhost:8080/"
        },
        "id": "DibS7HN0X1ge",
        "outputId": "573c38ea-68b8-40e2-b9ad-cd85001a24f0"
      },
      "execution_count": 87,
      "outputs": [
        {
          "output_type": "stream",
          "name": "stdout",
          "text": [
            "+----------------+\n",
            "|count(review_id)|\n",
            "+----------------+\n",
            "|            7689|\n",
            "+----------------+\n",
            "\n"
          ]
        }
      ]
    },
    {
      "cell_type": "code",
      "source": [
        "#total with vine and 5 star rating\n",
        "vinestar = novine_df.filter('star_rating==5').agg({'review_id': 'count'}).show()"
      ],
      "metadata": {
        "colab": {
          "base_uri": "https://localhost:8080/"
        },
        "id": "OU-ynLMIXlrv",
        "outputId": "492463f7-cf8e-4d6e-eeb3-78a05acb4cf3"
      },
      "execution_count": 88,
      "outputs": [
        {
          "output_type": "stream",
          "name": "stdout",
          "text": [
            "+----------------+\n",
            "|count(review_id)|\n",
            "+----------------+\n",
            "|            4444|\n",
            "+----------------+\n",
            "\n"
          ]
        }
      ]
    },
    {
      "cell_type": "code",
      "source": [
        "#without vine 5 star reviews divided by total reviews\n",
        "4444/7689"
      ],
      "metadata": {
        "colab": {
          "base_uri": "https://localhost:8080/"
        },
        "id": "fGUe3SQYXl1O",
        "outputId": "0a670e31-d87c-4368-ac81-fd0c8a2165f3"
      },
      "execution_count": 89,
      "outputs": [
        {
          "output_type": "execute_result",
          "data": {
            "text/plain": [
              "0.5779685264663805"
            ]
          },
          "metadata": {},
          "execution_count": 89
        }
      ]
    }
  ]
}